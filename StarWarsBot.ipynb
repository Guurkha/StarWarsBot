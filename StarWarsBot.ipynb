{
 "cells": [
  {
   "cell_type": "code",
   "execution_count": null,
   "id": "93b813fc",
   "metadata": {},
   "outputs": [],
   "source": [
    "#to dziala!\n",
    "from chatterbot import ChatBot\n",
    "from chatterbot.trainers import ListTrainer\n",
    "from playsound import playsound\n",
    "import re\n",
    "import time\n",
    "import pyttsx3\n",
    "import os\n",
    "from gtts import gTTS\n",
    "time.clock = time.time\n",
    "\n",
    "# Create a new chat bot named Charlie\n",
    "chatbot = ChatBot('Darth Vader', logic_adapters=[\n",
    "    {\n",
    "        'import_path': 'chatterbot.logic.BestMatch',\n",
    "        'default_response': 'glos11.mp3',\n",
    "        'maximum_similarity_threshold': 0.50\n",
    "    }\n",
    "]) #new chatbot\n",
    "# chatbot.set_trainer(ListTrainer) #set the trainer\n",
    "trainer = ListTrainer(chatbot)\n",
    "conv = open('./uczenie.txt', 'r').readlines()\n",
    "# ------------------------------------------\n",
    "# odkomentowac na potrzeby prezentacj\n",
    "# conv = open('./uczenie_prezentacja.txt', 'r').readlines()\n",
    "# ------------------------------------------\n",
    "trainer.train(conv)\n",
    "# Language in which you want to convert\n",
    "# language = 'en'\n",
    "  \n",
    "# Passing the text and language to the engine, \n",
    "# here we have marked slow=False. Which tells \n",
    "# the module that the converted audio should \n",
    "# have a high speed\n",
    "language = 'en'\n",
    "engine = pyttsx3.init()\n",
    "while True:\n",
    "    \n",
    "    request = input('You: ')\n",
    "    response = str(chatbot.get_response(request))\n",
    "    \n",
    "    pattern = re.compile(r\"glos\\d\")\n",
    "    if(pattern.findall(response)):\n",
    "        fileName = \"start \" + response\n",
    "        os.system(fileName)\n",
    "    else:\n",
    "        engine.say(response)\n",
    "        engine.runAndWait()\n",
    "    #--------\n",
    "    \n",
    "    print('Bot: ', response)\n",
    "\n"
   ]
  }
 ],
 "metadata": {
  "kernelspec": {
   "display_name": "Python 3 (ipykernel)",
   "language": "python",
   "name": "python3"
  },
  "language_info": {
   "codemirror_mode": {
    "name": "ipython",
    "version": 3
   },
   "file_extension": ".py",
   "mimetype": "text/x-python",
   "name": "python",
   "nbconvert_exporter": "python",
   "pygments_lexer": "ipython3",
   "version": "3.10.8"
  }
 },
 "nbformat": 4,
 "nbformat_minor": 5
}
